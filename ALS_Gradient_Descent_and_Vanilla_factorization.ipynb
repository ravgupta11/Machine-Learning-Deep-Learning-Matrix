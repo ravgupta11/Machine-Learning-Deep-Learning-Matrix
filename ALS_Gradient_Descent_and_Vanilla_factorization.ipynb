{
  "nbformat": 4,
  "nbformat_minor": 0,
  "metadata": {
    "colab": {
      "name": "ALS Gradient Descent and Vanilla factorization.ipynb",
      "provenance": [],
      "collapsed_sections": [],
      "authorship_tag": "ABX9TyMSSb9ONI/pAn9rLoitZMot",
      "include_colab_link": true
    },
    "kernelspec": {
      "name": "python3",
      "display_name": "Python 3"
    },
    "language_info": {
      "name": "python"
    }
  },
  "cells": [
    {
      "cell_type": "markdown",
      "metadata": {
        "id": "view-in-github",
        "colab_type": "text"
      },
      "source": [
        "<a href=\"https://colab.research.google.com/github/ravgupta11/Machine-Learning-Deep-Learning-Matrix/blob/main/ALS_Gradient_Descent_and_Vanilla_factorization.ipynb\" target=\"_parent\"><img src=\"https://colab.research.google.com/assets/colab-badge.svg\" alt=\"Open In Colab\"/></a>"
      ]
    },
    {
      "cell_type": "code",
      "metadata": {
        "colab": {
          "base_uri": "https://localhost:8080/"
        },
        "id": "pFBVGpFQZt_J",
        "outputId": "4550a86c-48a2-45bc-f7c0-e1edfbd26b06"
      },
      "source": [
        "#ALS \n",
        "import numpy as np\n",
        "from numpy.random import randn\n",
        "from numpy.random import choice\n",
        "%matplotlib inline\n",
        "import matplotlib.pyplot as plt\n",
        "import pandas as pd\n",
        "i = int(input('Enter the seed: '))\n",
        "np.random.seed(i)"
      ],
      "execution_count": null,
      "outputs": [
        {
          "output_type": "stream",
          "text": [
            "Enter the seed: 3435\n"
          ],
          "name": "stdout"
        }
      ]
    },
    {
      "cell_type": "code",
      "metadata": {
        "id": "4alLy8MQdhh0"
      },
      "source": [
        "def train_test_split(data, r = 0.01):\n",
        "  test_data = np.zeros(data.shape)\n",
        "  train_data = data.copy()\n",
        "  num_items = int(r * data.shape[1])\n",
        "  for user in range(data.shape[0]):\n",
        "    test_indices = choice(data[user, :].nonzero()[0], size = num_items, replace = False)\n",
        "    train_data[user, test_indices] = 0.\n",
        "    test_data[user, test_indices] = data[user, test_indices]\n",
        "  return train_data, test_data\n"
      ],
      "execution_count": null,
      "outputs": []
    },
    {
      "cell_type": "code",
      "metadata": {
        "id": "AAGRBNieayjl"
      },
      "source": [
        "def rmse(R, X, Y, lmda_x, lmda_y):\n",
        "  Error = (X.T @ Y)\n",
        "  Error = R - Error\n",
        "  Error = Error * Error\n",
        "  return (np.sum(Error, axis = None) * 1 / (Error.shape[0] * Error.shape[1])) ** 0.5\n",
        "\n",
        "def loss(R, X, Y, lmda_x, lmda_y):\n",
        "  return Reg + rmse(R, X, lmda_x, lmda_y)\n",
        "\n",
        "def update_x(R, X, Y, lmda): ##Least Squares\n",
        "  X = Y @ R.T\n",
        "  inverse = np.linalg.inv(Y @ Y.T + lmda * np.identity(Y.shape[0]))\n",
        "  return (inverse @ X)\n",
        "\n",
        "def update_y(R, X, Y, lmda):## Least squares\n",
        "  Y = X @ R\n",
        "  inverse = np.linalg.inv(X @ X.T  + lmda * np.identity(X.shape[0]))\n",
        "  return (inverse @ Y)\n",
        "\n",
        "def update_x_gd(R, X, Y, lmda, alpha = 1e-5):#Gradient Descent\n",
        "  b = X.T @ Y\n",
        "  b = R - b\n",
        "  b = b @ Y.T \n",
        "  X = X - alpha * (-2* b + 2 * lmda * X.T).T\n",
        "  return X\n",
        "\n",
        "def update_y_gd(R, X, Y, lmda, alpha =1e-5):##Gradient descent \n",
        "  b = Y.T @ X\n",
        "  b = R.T - b\n",
        "  b = b @ X.T\n",
        "  Y = Y - alpha * (-2 * b + 2 * lmda * Y.T).T\n",
        "  return Y\n",
        "\n",
        "def iterate(R, X, Y, lmda_x, lmda_y, epochs):\n",
        "  for _ in range(epochs):\n",
        "    X = update_x_gd(R, X, Y, lmda_x)\n",
        "    Y = update_y_gd(R, X, Y, lmda_y)\n",
        "  return X, Y\n",
        "\n",
        "def train(users, items, R, lmda_x, lmda_y, epochs, k):\n",
        "  X , Y = randn(k, users), randn(k, items)\n",
        "  X, Y  = iterate(R, X, Y, lmda_x, lmda_y, epochs)\n",
        "  return X, Y\n",
        "\n"
      ],
      "execution_count": null,
      "outputs": []
    },
    {
      "cell_type": "code",
      "metadata": {
        "id": "8l20STVrwLm9"
      },
      "source": [
        "def grid_search(epochs, embds, lmdas_x, lmdas_y, train_data, test_data):\n",
        "    for lmda_x in lmdas_x:\n",
        "      for lmda_y in lmdas_y:\n",
        "        for embd in embds:  \n",
        "          plt.figure(figsize = (10,10))\n",
        "          flag = False\n",
        "          loss_train , loss_test, total = 0., 0., 0\n",
        "          loss_train_list, loss_test_list,total_epochs = [], [], []\n",
        "          for epoch in epochs:\n",
        "            if flag == False:\n",
        "              X, Y = train(train_data.shape[0], train_data.shape[1], train_data, lmda_x, lmda_y, epoch, embd)\n",
        "              flag = True\n",
        "            else:\n",
        "              X, Y = iterate(train_data, X, Y, lmda_x, lmda_y, epoch)\n",
        "            total += epoch\n",
        "            loss_train = rmse(train_data, X, Y, lmda_x, lmda_y)\n",
        "            loss_test = rmse(test_data, X, Y, lmda_x, lmda_y)\n",
        "            loss_train_list.append(loss_train)\n",
        "            loss_test_list.append(loss_test)\n",
        "            total_epochs.append(total)\n",
        "          plt.plot(total_epochs, loss_train_list, label = \"Training\", linewidth = 10)\n",
        "          print(total_epochs)\n",
        "          plt.plot(total_epochs, loss_test_list, label = \"Test\", linewidth = 10)\n",
        "          plt.xticks(fontsize = 10)\n",
        "          plt.title(str(embd)+ ', ' +str(lmda_x)  + ', ' + str(lmda_y) + ', ' + str(loss_test_list[-1] ** 0.5))\n",
        "          plt.yticks(fontsize = 10)\n",
        "          plt.xlabel('iterations', fontsize=30);\n",
        "          plt.ylabel('MSE', fontsize=30);\n",
        "          plt.legend(loc='best', fontsize=20);\n",
        "          "
      ],
      "execution_count": null,
      "outputs": []
    },
    {
      "cell_type": "code",
      "metadata": {
        "id": "iRNVmaHFwuq_",
        "colab": {
          "base_uri": "https://localhost:8080/"
        },
        "outputId": "b515404f-c849-43b1-efe4-b573fbcc2670"
      },
      "source": [
        "!curl -O http://files.grouplens.org/datasets/movielens/ml-100k.zip\n",
        "!unzip ml-100k.zip\n",
        "!cd ml-100k/"
      ],
      "execution_count": null,
      "outputs": [
        {
          "output_type": "stream",
          "text": [
            "  % Total    % Received % Xferd  Average Speed   Time    Time     Time  Current\n",
            "                                 Dload  Upload   Total   Spent    Left  Speed\n",
            "100 4808k  100 4808k    0     0  9503k      0 --:--:-- --:--:-- --:--:-- 9484k\n",
            "Archive:  ml-100k.zip\n",
            "replace ml-100k/allbut.pl? [y]es, [n]o, [A]ll, [N]one, [r]ename: "
          ],
          "name": "stdout"
        }
      ]
    },
    {
      "cell_type": "code",
      "metadata": {
        "colab": {
          "base_uri": "https://localhost:8080/"
        },
        "id": "gWn8ivZqyBkR",
        "outputId": "001e2e1b-23b3-4251-87b1-6b658a1fa525"
      },
      "source": [
        "ynames = ['user_id', 'item_id', 'rating', 'timestamp']\n",
        "train_df = pd.read_csv('u.data', sep='\\t', names=names)\n",
        "test_df = pd.read_csv('u1.test', sep ='\\t', names = names)\n",
        "for row in test_df.itertuples():\n",
        "  if(row.user_id not in train_df.user_id or row.item_id not in train_df.item_id):\n",
        "    test_df.drop(row.Index, inplace = True)\n",
        "print(len(test_df))"
      ],
      "execution_count": null,
      "outputs": [
        {
          "output_type": "stream",
          "text": [
            "20000\n"
          ],
          "name": "stdout"
        }
      ]
    },
    {
      "cell_type": "code",
      "metadata": {
        "id": "S7cXm8rKyCX9"
      },
      "source": [
        "def pandas_to_numpy(df, rows, cols):\n",
        "  ratings = np.zeros((rows, cols))\n",
        "  for row in df.itertuples():\n",
        "    ratings[row[1]-1, row[2]-1] = row[3]\n",
        "  return ratings\n",
        "train_data = pandas_to_numpy(train_df, train_df.user_id.unique().max(), train_df.item_id.unique().max())\n",
        "test_data = pandas_to_numpy(test_df, train_df.user_id.unique().max(), train_df.item_id.unique().max())"
      ],
      "execution_count": null,
      "outputs": []
    },
    {
      "cell_type": "code",
      "metadata": {
        "colab": {
          "base_uri": "https://localhost:8080/"
        },
        "id": "iMWW1EMWyaLp",
        "outputId": "9feaa033-4aef-42be-f665-50df00f8591e"
      },
      "source": [
        "def sparsity_check(data):\n",
        "  print (str(train_df.user_id.unique().max()) + ' users')\n",
        "  print (str(train_df.item_id.unique().max()) + ' items')\n",
        "  sparsity = float(len(data.nonzero()[0]))\n",
        "  sparsity /= (train_data.shape[0] * train_data.shape[1])\n",
        "  sparsity *= 100\n",
        "  print ('Sparsity: {:4.2f}%'.format(sparsity))\n",
        "sparsity_check(train_data)\n",
        "sparsity_check(test_data)"
      ],
      "execution_count": null,
      "outputs": [
        {
          "output_type": "stream",
          "text": [
            "943 users\n",
            "1682 items\n",
            "Sparsity: 6.30%\n",
            "943 users\n",
            "1682 items\n",
            "Sparsity: 1.26%\n"
          ],
          "name": "stdout"
        }
      ]
    },
    {
      "cell_type": "code",
      "metadata": {
        "colab": {
          "base_uri": "https://localhost:8080/"
        },
        "id": "IMG8Nw7Dyg3n",
        "outputId": "b62b7c5f-3378-45cb-e235-07a2fa9e0307"
      },
      "source": [
        "#train_data, test_data = train_test_split(ratings)\n",
        "train_data, test_data"
      ],
      "execution_count": null,
      "outputs": [
        {
          "output_type": "execute_result",
          "data": {
            "text/plain": [
              "(array([[5., 3., 4., ..., 0., 0., 0.],\n",
              "        [4., 0., 0., ..., 0., 0., 0.],\n",
              "        [0., 0., 0., ..., 0., 0., 0.],\n",
              "        ...,\n",
              "        [5., 0., 0., ..., 0., 0., 0.],\n",
              "        [0., 0., 0., ..., 0., 0., 0.],\n",
              "        [0., 5., 0., ..., 0., 0., 0.]]), array([[0., 0., 0., ..., 0., 0., 0.],\n",
              "        [0., 0., 0., ..., 0., 0., 0.],\n",
              "        [0., 0., 0., ..., 0., 0., 0.],\n",
              "        ...,\n",
              "        [0., 0., 0., ..., 0., 0., 0.],\n",
              "        [0., 0., 0., ..., 0., 0., 0.],\n",
              "        [0., 0., 0., ..., 0., 0., 0.]]))"
            ]
          },
          "metadata": {
            "tags": []
          },
          "execution_count": 31
        }
      ]
    },
    {
      "cell_type": "code",
      "metadata": {
        "colab": {
          "base_uri": "https://localhost:8080/",
          "height": 658
        },
        "id": "UDlNZC0Uy0JY",
        "outputId": "d8f2302e-04a3-4f2e-cab7-f0b1f91c2755"
      },
      "source": [
        "embds = [5]\n",
        "lmdas = [0.07]\n",
        "epochs = [5, 5, 5, 5,]\n",
        "grid_search(epochs, embds, lmdas, lmdas, train_data, test_data) #A approx= U V.T in normal 10 approx= 1.8 * 5"
      ],
      "execution_count": null,
      "outputs": [
        {
          "output_type": "stream",
          "text": [
            "[5, 10, 15, 20]\n"
          ],
          "name": "stdout"
        },
        {
          "output_type": "display_data",
          "data": {
            "image/png": "[encoded data removed]",
            "text/plain": [
              "<Figure size 720x720 with 1 Axes>"
            ]
          },
          "metadata": {
            "tags": [],
            "needs_background": "light"
          }
        }
      ]
    },
    {
      "cell_type": "code",
      "metadata": {
        "id": "q18q7RgUz7Dm"
      },
      "source": [
        ""
      ],
      "execution_count": null,
      "outputs": []
    },
    {
      "cell_type": "code",
      "metadata": {
        "id": "qu2roa4wmmIE"
      },
      "source": [
        ""
      ],
      "execution_count": null,
      "outputs": []
    }
  ]
}