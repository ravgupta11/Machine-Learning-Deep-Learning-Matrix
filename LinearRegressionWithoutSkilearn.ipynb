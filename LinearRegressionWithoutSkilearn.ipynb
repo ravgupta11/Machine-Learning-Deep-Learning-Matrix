{
  "nbformat": 4,
  "nbformat_minor": 0,
  "metadata": {
    "colab": {
      "name": "LinearRegressionWithoutSkilearn.ipynb",
      "provenance": [],
      "collapsed_sections": [],
      "toc_visible": true,
      "include_colab_link": true
    },
    "kernelspec": {
      "display_name": "Python 3",
      "language": "python",
      "name": "python3"
    },
    "language_info": {
      "codemirror_mode": {
        "name": "ipython",
        "version": 3
      },
      "file_extension": ".py",
      "mimetype": "text/x-python",
      "name": "python",
      "nbconvert_exporter": "python",
      "pygments_lexer": "ipython3",
      "version": "3.7.3"
    }
  },
  "cells": [
    {
      "cell_type": "markdown",
      "metadata": {
        "id": "view-in-github",
        "colab_type": "text"
      },
      "source": [
        "<a href=\"https://colab.research.google.com/github/ravgupta11/Machine-Learning-Deep-Learning-Matrix/blob/main/LinearRegressionWithoutSkilearn.ipynb\" target=\"_parent\"><img src=\"https://colab.research.google.com/assets/colab-badge.svg\" alt=\"Open In Colab\"/></a>"
      ]
    },
    {
      "cell_type": "code",
      "metadata": {
        "colab": {
          "base_uri": "https://localhost:8080/",
          "height": 402
        },
        "id": "KsEnz6SlzILO",
        "outputId": "172008d6-8857-44c7-f032-5afce8777edb"
      },
      "source": [
        "import numpy as np\n",
        "import pandas as pd\n",
        "\n",
        "my_data = pd.read_csv('california_housing_train.csv', delimiter=',') #read the data\n",
        "my_data"
      ],
      "execution_count": null,
      "outputs": [
        {
          "output_type": "execute_result",
          "data": {
            "text/html": [
              "<div>\n",
              "<style scoped>\n",
              "    .dataframe tbody tr th:only-of-type {\n",
              "        vertical-align: middle;\n",
              "    }\n",
              "\n",
              "    .dataframe tbody tr th {\n",
              "        vertical-align: top;\n",
              "    }\n",
              "\n",
              "    .dataframe thead th {\n",
              "        text-align: right;\n",
              "    }\n",
              "</style>\n",
              "<table border=\"1\" class=\"dataframe\">\n",
              "  <thead>\n",
              "    <tr style=\"text-align: right;\">\n",
              "      <th></th>\n",
              "      <th>longitude</th>\n",
              "      <th>latitude</th>\n",
              "      <th>housing_median_age</th>\n",
              "      <th>total_rooms</th>\n",
              "      <th>total_bedrooms</th>\n",
              "      <th>population</th>\n",
              "      <th>households</th>\n",
              "      <th>median_income</th>\n",
              "      <th>median_house_value</th>\n",
              "    </tr>\n",
              "  </thead>\n",
              "  <tbody>\n",
              "    <tr>\n",
              "      <th>0</th>\n",
              "      <td>-114.31</td>\n",
              "      <td>34.19</td>\n",
              "      <td>15.0</td>\n",
              "      <td>5612.0</td>\n",
              "      <td>1283.0</td>\n",
              "      <td>1015.0</td>\n",
              "      <td>472.0</td>\n",
              "      <td>1.4936</td>\n",
              "      <td>66900.0</td>\n",
              "    </tr>\n",
              "    <tr>\n",
              "      <th>1</th>\n",
              "      <td>-114.47</td>\n",
              "      <td>34.40</td>\n",
              "      <td>19.0</td>\n",
              "      <td>7650.0</td>\n",
              "      <td>1901.0</td>\n",
              "      <td>1129.0</td>\n",
              "      <td>463.0</td>\n",
              "      <td>1.8200</td>\n",
              "      <td>80100.0</td>\n",
              "    </tr>\n",
              "    <tr>\n",
              "      <th>2</th>\n",
              "      <td>-114.56</td>\n",
              "      <td>33.69</td>\n",
              "      <td>17.0</td>\n",
              "      <td>720.0</td>\n",
              "      <td>174.0</td>\n",
              "      <td>333.0</td>\n",
              "      <td>117.0</td>\n",
              "      <td>1.6509</td>\n",
              "      <td>85700.0</td>\n",
              "    </tr>\n",
              "    <tr>\n",
              "      <th>3</th>\n",
              "      <td>-114.57</td>\n",
              "      <td>33.64</td>\n",
              "      <td>14.0</td>\n",
              "      <td>1501.0</td>\n",
              "      <td>337.0</td>\n",
              "      <td>515.0</td>\n",
              "      <td>226.0</td>\n",
              "      <td>3.1917</td>\n",
              "      <td>73400.0</td>\n",
              "    </tr>\n",
              "    <tr>\n",
              "      <th>4</th>\n",
              "      <td>-114.57</td>\n",
              "      <td>33.57</td>\n",
              "      <td>20.0</td>\n",
              "      <td>1454.0</td>\n",
              "      <td>326.0</td>\n",
              "      <td>624.0</td>\n",
              "      <td>262.0</td>\n",
              "      <td>1.9250</td>\n",
              "      <td>65500.0</td>\n",
              "    </tr>\n",
              "    <tr>\n",
              "      <th>...</th>\n",
              "      <td>...</td>\n",
              "      <td>...</td>\n",
              "      <td>...</td>\n",
              "      <td>...</td>\n",
              "      <td>...</td>\n",
              "      <td>...</td>\n",
              "      <td>...</td>\n",
              "      <td>...</td>\n",
              "      <td>...</td>\n",
              "    </tr>\n",
              "    <tr>\n",
              "      <th>16995</th>\n",
              "      <td>-124.26</td>\n",
              "      <td>40.58</td>\n",
              "      <td>52.0</td>\n",
              "      <td>2217.0</td>\n",
              "      <td>394.0</td>\n",
              "      <td>907.0</td>\n",
              "      <td>369.0</td>\n",
              "      <td>2.3571</td>\n",
              "      <td>111400.0</td>\n",
              "    </tr>\n",
              "    <tr>\n",
              "      <th>16996</th>\n",
              "      <td>-124.27</td>\n",
              "      <td>40.69</td>\n",
              "      <td>36.0</td>\n",
              "      <td>2349.0</td>\n",
              "      <td>528.0</td>\n",
              "      <td>1194.0</td>\n",
              "      <td>465.0</td>\n",
              "      <td>2.5179</td>\n",
              "      <td>79000.0</td>\n",
              "    </tr>\n",
              "    <tr>\n",
              "      <th>16997</th>\n",
              "      <td>-124.30</td>\n",
              "      <td>41.84</td>\n",
              "      <td>17.0</td>\n",
              "      <td>2677.0</td>\n",
              "      <td>531.0</td>\n",
              "      <td>1244.0</td>\n",
              "      <td>456.0</td>\n",
              "      <td>3.0313</td>\n",
              "      <td>103600.0</td>\n",
              "    </tr>\n",
              "    <tr>\n",
              "      <th>16998</th>\n",
              "      <td>-124.30</td>\n",
              "      <td>41.80</td>\n",
              "      <td>19.0</td>\n",
              "      <td>2672.0</td>\n",
              "      <td>552.0</td>\n",
              "      <td>1298.0</td>\n",
              "      <td>478.0</td>\n",
              "      <td>1.9797</td>\n",
              "      <td>85800.0</td>\n",
              "    </tr>\n",
              "    <tr>\n",
              "      <th>16999</th>\n",
              "      <td>-124.35</td>\n",
              "      <td>40.54</td>\n",
              "      <td>52.0</td>\n",
              "      <td>1820.0</td>\n",
              "      <td>300.0</td>\n",
              "      <td>806.0</td>\n",
              "      <td>270.0</td>\n",
              "      <td>3.0147</td>\n",
              "      <td>94600.0</td>\n",
              "    </tr>\n",
              "  </tbody>\n",
              "</table>\n",
              "<p>17000 rows × 9 columns</p>\n",
              "</div>"
            ],
            "text/plain": [
              "       longitude  latitude  ...  median_income  median_house_value\n",
              "0        -114.31     34.19  ...         1.4936             66900.0\n",
              "1        -114.47     34.40  ...         1.8200             80100.0\n",
              "2        -114.56     33.69  ...         1.6509             85700.0\n",
              "3        -114.57     33.64  ...         3.1917             73400.0\n",
              "4        -114.57     33.57  ...         1.9250             65500.0\n",
              "...          ...       ...  ...            ...                 ...\n",
              "16995    -124.26     40.58  ...         2.3571            111400.0\n",
              "16996    -124.27     40.69  ...         2.5179             79000.0\n",
              "16997    -124.30     41.84  ...         3.0313            103600.0\n",
              "16998    -124.30     41.80  ...         1.9797             85800.0\n",
              "16999    -124.35     40.54  ...         3.0147             94600.0\n",
              "\n",
              "[17000 rows x 9 columns]"
            ]
          },
          "metadata": {
            "tags": []
          },
          "execution_count": 2
        }
      ]
    },
    {
      "cell_type": "code",
      "metadata": {
        "id": "0bgKG8bXkmEF"
      },
      "source": [
        "def normalize(df):\n",
        "  for col in df.columns[0:8]:\n",
        "    mx = df[col].max()\n",
        "    mn = df[col].min()\n",
        "    df[col] = (df[col] - mn) / (mx - mn)  ## 1 2 3 4 5 6 7 8 9 9 10 (subtract minimum) -> 0 1 2 3 4 5 6 7 8 8 9 > (divide by max size = mx - mn) 0 1/9 2/9 ... 9/9 = 0 1/9 2/9 3/9 ... 1\n",
        "  return df\n",
        "\n",
        "def randomize(features, labels, batch):\n",
        "  c = np.concatenate([features, labels], axis = 1)\n",
        "  np.random.shuffle(c)\n",
        "  X = c[:batch, 0:2]\n",
        "  y = c[:batch, 2].reshape(-1, 1)\n",
        "  return X, y\n",
        "\n",
        "def clean_data(my_data): # pandas dataframe\n",
        "  X = my_data.to_numpy()\n",
        "  X = X[:, 8].reshape(-1,1) # -1 all rows, 8 means only one column \n",
        "  ones = np.ones([X.shape[0], 1]) # create a array containing only ones X.shape[0] rows X.shape[1] columns\n",
        "  XA = np.concatenate([ones, X],axis=1) # cocatenate the ones to X matrix XA = X augmented\n",
        "  y = my_data.to_numpy()\n",
        "  y = y[:, 8].reshape(-1,1) # create the y matrix\n",
        "  return XA, y"
      ],
      "execution_count": null,
      "outputs": []
    },
    {
      "cell_type": "markdown",
      "metadata": {
        "id": "SRJeuKzESJPF"
      },
      "source": [
        "# Summary\n",
        "\n",
        ">  1) Read the Data .\n",
        "\n",
        "> 2) Make a column vector from the list.\n",
        "\n",
        "> 3) Create a array containing ONLY ONES.\n",
        "\n",
        "> 4) Concate the ones with the column vector (column wise).\n",
        "\n",
        "> 5) Store the labels in a column vector y.\n",
        "\n",
        "> 6) Give learning rate (alpha) a value.\n",
        "\n",
        "> 7) Give iters a value i.e. number of iterations.**\n",
        "\n",
        "\n",
        "\n"
      ]
    },
    {
      "cell_type": "code",
      "metadata": {
        "id": "V9-wBh0-zILa"
      },
      "source": [
        ""
      ],
      "execution_count": null,
      "outputs": []
    },
    {
      "cell_type": "markdown",
      "metadata": {
        "id": "o6j1gzM0TV4O"
      },
      "source": [
        "# Summary\n",
        "\n",
        "> 1) scatter plot the given data (x is feature, y is numerical label)"
      ]
    },
    {
      "cell_type": "code",
      "metadata": {
        "id": "TUUtPiFNzILh"
      },
      "source": [
        "\n",
        "def computeCost(X, y, theta):  \n",
        "    inner = np.power(((X @ theta.T) - y), 2) \n",
        "    S = np.sum(inner)\n",
        "    MSE = S / float(len(X));\n",
        "    return np.power(MSE, 0.5)"
      ],
      "execution_count": null,
      "outputs": []
    },
    {
      "cell_type": "markdown",
      "metadata": {
        "id": "BJZhsRbETU2Y"
      },
      "source": [
        "# Summary\n",
        "> 1) Theta is a column vectors in which weights are having 1, 1 values\n",
        "\n",
        "> 2) MSE = sum ( (predicted y - real y)^2) / N\n",
        "\n",
        "> 3) computeCost retuerns the MSE for given weights."
      ]
    },
    {
      "cell_type": "code",
      "metadata": {
        "colab": {
          "base_uri": "https://localhost:8080/"
        },
        "id": "LxQKl8GIzILt",
        "outputId": "8e9dcb57-63fa-4684-e83d-6826c615d673"
      },
      "source": [
        "epsilon = 1e-15 #learning rate\n",
        "iters = 100000\n",
        "def gradientDescent(features, labels, theta, epsilon, iters, batch):\n",
        "    for i in range(iters):\n",
        "        X, y = randomize(features, labels, batch)\n",
        "        Diff = (X @ theta.T - y) * X * 2; # * is element wise \n",
        "        Diff = np.sum(Diff, axis = 0) / float(batch)# len(X) is number of rows\n",
        "        theta = theta - (epsilon) * Diff \n",
        "        cost = computeCost(X, y, theta)\n",
        "        if(i % 10000 == 0):\n",
        "          print(theta, cost)\n",
        "    return (theta, cost)\n",
        "  \n",
        "theta = np.random.rand(1, 2)\n",
        "my_data = normalize(my_data)\n",
        "XA, y = clean_data(my_data)\n",
        "print(XA, y)\n",
        "batch = 50\n",
        "theta, cost = gradientDescent(XA, y / 100, theta, epsilon, iters, batch)  \n",
        "print(theta, cost)"
      ],
      "execution_count": null,
      "outputs": [
        {
          "output_type": "stream",
          "text": [
            "[[1.000e+00 6.690e+04]\n",
            " [1.000e+00 8.010e+04]\n",
            " [1.000e+00 8.570e+04]\n",
            " ...\n",
            " [1.000e+00 1.036e+05]\n",
            " [1.000e+00 8.580e+04]\n",
            " [1.000e+00 9.460e+04]] [[ 66900.]\n",
            " [ 80100.]\n",
            " [ 85700.]\n",
            " ...\n",
            " [103600.]\n",
            " [ 85800.]\n",
            " [ 94600.]]\n",
            "[[0.36425421 0.43048917]] 95043.03519452493\n",
            "[[0.36425316 0.14610443]] 30368.54582818366\n",
            "[[0.36425283 0.05405146]] 10570.803038336975\n",
            "[[0.36425272 0.02424099]] 3403.46625709229\n",
            "[[0.36425268 0.01461136]] 1353.797625792695\n",
            "[[0.36425267 0.01149   ]] 332.2961392743655\n",
            "[[0.36425267 0.0104808 ]] 119.85980716395161\n",
            "[[0.36425267 0.01015473]] 44.18543421699967\n",
            "[[0.36425266 0.010049  ]] 12.317049178279321\n",
            "[[0.36425266 0.01001489]] 3.5545344851508665\n",
            "[[0.36425266 0.01000391]] 1.3063380724376439\n"
          ],
          "name": "stdout"
        }
      ]
    },
    {
      "cell_type": "markdown",
      "metadata": {
        "id": "SIuQ1uqw-nx6"
      },
      "source": [
        ""
      ]
    },
    {
      "cell_type": "markdown",
      "metadata": {
        "id": "X6T8DxMwVydV"
      },
      "source": [
        "#Summary\n",
        "\n",
        "> 1) The gradientDescent function returns (weights, MSE) tuple\n",
        "\n",
        "> 2) Number of times , weights are going to be improved\n",
        "\n",
        "> 3) Calculating differentiation of MSE with respect to weights\n",
        "\n",
        "> 4) Subtracting learning rate * Differential value  from weights\n",
        "\n",
        "> 5) Repeating the above procedure for iters times\n",
        "\n",
        "> 6) Increasing the learning rate > 0.005 will exponentially increase the MSE.\n",
        "\n"
      ]
    },
    {
      "cell_type": "code",
      "metadata": {
        "colab": {
          "base_uri": "https://localhost:8080/",
          "height": 438
        },
        "id": "t7Mtj9X6Nytx",
        "outputId": "c59e31c4-5897-44a0-f6eb-45edba5c3ca4"
      },
      "source": [
        "test_data = pd.read_csv('california_housing_test.csv', delimiter = ',')\n",
        "test_data_normal = normalize(test_data)\n",
        "XAt, yt = clean_data(test_data_normal)\n",
        "print(computeCost(XAt, yt / 100, theta))\n",
        "test_data['predicted_house_value'] = (XAt @ theta.T) * 100\n",
        "test_data"
      ],
      "execution_count": null,
      "outputs": [
        {
          "output_type": "stream",
          "text": [
            "1.2510330737716038\n"
          ],
          "name": "stdout"
        },
        {
          "output_type": "execute_result",
          "data": {
            "text/html": [
              "<div>\n",
              "<style scoped>\n",
              "    .dataframe tbody tr th:only-of-type {\n",
              "        vertical-align: middle;\n",
              "    }\n",
              "\n",
              "    .dataframe tbody tr th {\n",
              "        vertical-align: top;\n",
              "    }\n",
              "\n",
              "    .dataframe thead th {\n",
              "        text-align: right;\n",
              "    }\n",
              "</style>\n",
              "<table border=\"1\" class=\"dataframe\">\n",
              "  <thead>\n",
              "    <tr style=\"text-align: right;\">\n",
              "      <th></th>\n",
              "      <th>longitude</th>\n",
              "      <th>latitude</th>\n",
              "      <th>housing_median_age</th>\n",
              "      <th>total_rooms</th>\n",
              "      <th>total_bedrooms</th>\n",
              "      <th>population</th>\n",
              "      <th>households</th>\n",
              "      <th>median_income</th>\n",
              "      <th>median_house_value</th>\n",
              "      <th>predicted_house_value</th>\n",
              "    </tr>\n",
              "  </thead>\n",
              "  <tbody>\n",
              "    <tr>\n",
              "      <th>0</th>\n",
              "      <td>0.219814</td>\n",
              "      <td>0.513889</td>\n",
              "      <td>0.509804</td>\n",
              "      <td>0.127414</td>\n",
              "      <td>0.121654</td>\n",
              "      <td>0.128416</td>\n",
              "      <td>0.122565</td>\n",
              "      <td>0.421277</td>\n",
              "      <td>344700.0</td>\n",
              "      <td>344871.362960</td>\n",
              "    </tr>\n",
              "    <tr>\n",
              "      <th>1</th>\n",
              "      <td>0.606811</td>\n",
              "      <td>0.181624</td>\n",
              "      <td>0.823529</td>\n",
              "      <td>0.049402</td>\n",
              "      <td>0.056858</td>\n",
              "      <td>0.067393</td>\n",
              "      <td>0.055804</td>\n",
              "      <td>0.213728</td>\n",
              "      <td>176500.0</td>\n",
              "      <td>176605.518690</td>\n",
              "    </tr>\n",
              "    <tr>\n",
              "      <th>2</th>\n",
              "      <td>0.657379</td>\n",
              "      <td>0.130342</td>\n",
              "      <td>0.509804</td>\n",
              "      <td>0.117691</td>\n",
              "      <td>0.093225</td>\n",
              "      <td>0.123973</td>\n",
              "      <td>0.100041</td>\n",
              "      <td>0.365064</td>\n",
              "      <td>270500.0</td>\n",
              "      <td>270642.316320</td>\n",
              "    </tr>\n",
              "    <tr>\n",
              "      <th>3</th>\n",
              "      <td>0.600619</td>\n",
              "      <td>0.134615</td>\n",
              "      <td>0.529412</td>\n",
              "      <td>0.002004</td>\n",
              "      <td>0.002400</td>\n",
              "      <td>0.003688</td>\n",
              "      <td>0.001826</td>\n",
              "      <td>0.388684</td>\n",
              "      <td>330000.0</td>\n",
              "      <td>330165.608437</td>\n",
              "    </tr>\n",
              "    <tr>\n",
              "      <th>4</th>\n",
              "      <td>0.465428</td>\n",
              "      <td>0.402778</td>\n",
              "      <td>0.352941</td>\n",
              "      <td>0.040566</td>\n",
              "      <td>0.044674</td>\n",
              "      <td>0.070830</td>\n",
              "      <td>0.047687</td>\n",
              "      <td>0.168108</td>\n",
              "      <td>81700.0</td>\n",
              "      <td>81768.407888</td>\n",
              "    </tr>\n",
              "    <tr>\n",
              "      <th>...</th>\n",
              "      <td>...</td>\n",
              "      <td>...</td>\n",
              "      <td>...</td>\n",
              "      <td>...</td>\n",
              "      <td>...</td>\n",
              "      <td>...</td>\n",
              "      <td>...</td>\n",
              "      <td>...</td>\n",
              "      <td>...</td>\n",
              "      <td>...</td>\n",
              "    </tr>\n",
              "    <tr>\n",
              "      <th>2995</th>\n",
              "      <td>0.445820</td>\n",
              "      <td>0.198718</td>\n",
              "      <td>0.431373</td>\n",
              "      <td>0.047431</td>\n",
              "      <td>0.118147</td>\n",
              "      <td>0.105029</td>\n",
              "      <td>0.122768</td>\n",
              "      <td>0.046834</td>\n",
              "      <td>225000.0</td>\n",
              "      <td>225124.504701</td>\n",
              "    </tr>\n",
              "    <tr>\n",
              "      <th>2996</th>\n",
              "      <td>0.623323</td>\n",
              "      <td>0.160256</td>\n",
              "      <td>0.509804</td>\n",
              "      <td>0.172481</td>\n",
              "      <td>0.199372</td>\n",
              "      <td>0.292624</td>\n",
              "      <td>0.209821</td>\n",
              "      <td>0.199356</td>\n",
              "      <td>237200.0</td>\n",
              "      <td>237329.280564</td>\n",
              "    </tr>\n",
              "    <tr>\n",
              "      <th>2997</th>\n",
              "      <td>0.462332</td>\n",
              "      <td>0.399573</td>\n",
              "      <td>0.176471</td>\n",
              "      <td>0.031205</td>\n",
              "      <td>0.036736</td>\n",
              "      <td>0.057670</td>\n",
              "      <td>0.044237</td>\n",
              "      <td>0.123419</td>\n",
              "      <td>62000.0</td>\n",
              "      <td>62060.696044</td>\n",
              "    </tr>\n",
              "    <tr>\n",
              "      <th>2998</th>\n",
              "      <td>0.728586</td>\n",
              "      <td>0.164530</td>\n",
              "      <td>0.764706</td>\n",
              "      <td>0.002956</td>\n",
              "      <td>0.002215</td>\n",
              "      <td>0.003437</td>\n",
              "      <td>0.002435</td>\n",
              "      <td>0.191094</td>\n",
              "      <td>162500.0</td>\n",
              "      <td>162600.038191</td>\n",
              "    </tr>\n",
              "    <tr>\n",
              "      <th>2999</th>\n",
              "      <td>0.469556</td>\n",
              "      <td>0.198718</td>\n",
              "      <td>0.803922</td>\n",
              "      <td>0.057778</td>\n",
              "      <td>0.048182</td>\n",
              "      <td>0.062699</td>\n",
              "      <td>0.052354</td>\n",
              "      <td>0.555916</td>\n",
              "      <td>500001.0</td>\n",
              "      <td>500233.157735</td>\n",
              "    </tr>\n",
              "  </tbody>\n",
              "</table>\n",
              "<p>3000 rows × 10 columns</p>\n",
              "</div>"
            ],
            "text/plain": [
              "      longitude  latitude  ...  median_house_value  predicted_house_value\n",
              "0      0.219814  0.513889  ...            344700.0          344871.362960\n",
              "1      0.606811  0.181624  ...            176500.0          176605.518690\n",
              "2      0.657379  0.130342  ...            270500.0          270642.316320\n",
              "3      0.600619  0.134615  ...            330000.0          330165.608437\n",
              "4      0.465428  0.402778  ...             81700.0           81768.407888\n",
              "...         ...       ...  ...                 ...                    ...\n",
              "2995   0.445820  0.198718  ...            225000.0          225124.504701\n",
              "2996   0.623323  0.160256  ...            237200.0          237329.280564\n",
              "2997   0.462332  0.399573  ...             62000.0           62060.696044\n",
              "2998   0.728586  0.164530  ...            162500.0          162600.038191\n",
              "2999   0.469556  0.198718  ...            500001.0          500233.157735\n",
              "\n",
              "[3000 rows x 10 columns]"
            ]
          },
          "metadata": {
            "tags": []
          },
          "execution_count": 14
        }
      ]
    },
    {
      "cell_type": "code",
      "metadata": {
        "colab": {
          "base_uri": "https://localhost:8080/"
        },
        "id": "4QSw5o8JzILz",
        "outputId": "915bdcb1-c8c9-4453-ba5c-ecff842ecf54"
      },
      "source": [
        "from matplotlib import pyplot as plt\n",
        "final_weights = theta\n",
        "final_weights"
      ],
      "execution_count": null,
      "outputs": [
        {
          "output_type": "execute_result",
          "data": {
            "text/plain": [
              "array([[0.36425266, 0.01000391]])"
            ]
          },
          "metadata": {
            "tags": []
          },
          "execution_count": 22
        }
      ]
    },
    {
      "cell_type": "markdown",
      "metadata": {
        "id": "TxpTEgenXI7h"
      },
      "source": [
        "# Summary\n",
        "\n",
        "> 1) Scatter plot the data points\n",
        "\n",
        "> 2) plot the line with weight1 as slope and weight2 as y intercept"
      ]
    }
  ]
}