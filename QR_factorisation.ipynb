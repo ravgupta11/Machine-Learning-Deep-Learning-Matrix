{
  "nbformat": 4,
  "nbformat_minor": 0,
  "metadata": {
    "colab": {
      "name": "QR factorisation.ipynb",
      "provenance": [],
      "authorship_tag": "ABX9TyN5vswn3rreMScBCMDIpqsu",
      "include_colab_link": true
    },
    "kernelspec": {
      "display_name": "Python 3",
      "name": "python3"
    },
    "language_info": {
      "name": "python"
    },
    "accelerator": "GPU"
  },
  "cells": [
    {
      "cell_type": "markdown",
      "metadata": {
        "id": "view-in-github",
        "colab_type": "text"
      },
      "source": [
        "<a href=\"https://colab.research.google.com/github/ravgupta11/Machine-Learning-Deep-Learning-Matrix/blob/main/QR_factorisation.ipynb\" target=\"_parent\"><img src=\"https://colab.research.google.com/assets/colab-badge.svg\" alt=\"Open In Colab\"/></a>"
      ]
    },
    {
      "cell_type": "code",
      "metadata": {
        "id": "GXtQNNDnTLd_"
      },
      "source": [
        "import numpy as np\n",
        "import tensorflow as tf"
      ],
      "execution_count": null,
      "outputs": []
    },
    {
      "cell_type": "code",
      "metadata": {
        "id": "_C9UXv_BUgRM"
      },
      "source": [
        "A = np.random.randn(100, 100)"
      ],
      "execution_count": null,
      "outputs": []
    },
    {
      "cell_type": "code",
      "metadata": {
        "id": "TNaxPhkqUsQ5"
      },
      "source": [
        "def GramSchmidt(A):\n",
        "  Q = np.zeros(A.shape, dtype = np.float64)\n",
        "  R = np.zeros((A.shape[1], A.shape[1]), dtype = np.float64)\n",
        "  At, Qt =A.T, Q.T\n",
        "  for i in range(A.shape[1]):\n",
        "    Q = Qt.T\n",
        "    row = At[i] @ Q\n",
        "    sub = np.sum( Q @ np.diagflat(row), axis =1)\n",
        "    Qt[i] =At[i] - sub\n",
        "    Qt[i] = Qt[i] / np.sqrt(np.inner(Qt[i], Qt[i]))\n",
        "  R = Qt @ A\n",
        "  return Qt.T, R"
      ],
      "execution_count": null,
      "outputs": []
    },
    {
      "cell_type": "code",
      "metadata": {
        "colab": {
          "base_uri": "https://localhost:8080/"
        },
        "id": "zucztsCtWLx6",
        "outputId": "459e7875-5eb6-4204-a826-4b9e9fa81b69"
      },
      "source": [
        "%time Q, R = GramSchmidt(A)\n",
        "ap = Q @ R\n",
        "%time Q, R = np.linalg.qr(A)\n",
        "aq =  Q @ R\n",
        "print(np.abs(ap - aq) <= 1e-12)"
      ],
      "execution_count": null,
      "outputs": [
        {
          "output_type": "stream",
          "text": [
            "CPU times: user 37.8 ms, sys: 14.8 ms, total: 52.6 ms\n",
            "Wall time: 33.4 ms\n",
            "CPU times: user 1.22 ms, sys: 1.15 ms, total: 2.36 ms\n",
            "Wall time: 1.2 ms\n",
            "[[ True  True  True ...  True  True  True]\n",
            " [ True  True  True ...  True  True  True]\n",
            " [ True  True  True ...  True  True  True]\n",
            " ...\n",
            " [ True  True  True ...  True  True  True]\n",
            " [ True  True  True ...  True  True  True]\n",
            " [ True  True  True ...  True  True  True]]\n"
          ],
          "name": "stdout"
        }
      ]
    },
    {
      "cell_type": "code",
      "metadata": {
        "id": "B3jcITpYWSd4",
        "colab": {
          "base_uri": "https://localhost:8080/"
        },
        "outputId": "2ccb68d2-9e24-42dd-bd52-5e05bc5d9941"
      },
      "source": [
        "\n",
        "Q @ R"
      ],
      "execution_count": null,
      "outputs": [
        {
          "output_type": "execute_result",
          "data": {
            "text/plain": [
              "array([[ 0.01666966,  1.61337924, -2.81654814, ...,  0.80974317,\n",
              "        -2.83237868,  0.47059904],\n",
              "       [-0.700286  ,  0.93348648,  0.88214704, ...,  0.71324896,\n",
              "        -1.38186019,  0.0895158 ],\n",
              "       [-0.96315453,  1.85708352, -0.5641127 , ..., -0.71016665,\n",
              "        -1.50945145,  1.91625171],\n",
              "       ...,\n",
              "       [ 0.01589677,  1.70858101,  1.26803428, ..., -1.22381497,\n",
              "         1.33964062, -0.60690898],\n",
              "       [ 1.24294051,  1.39840145,  1.35865173, ..., -0.70481381,\n",
              "         0.32980158,  0.57164249],\n",
              "       [ 0.48518327,  0.24024767, -0.05392683, ...,  0.40783613,\n",
              "         1.20366805, -0.02016612]])"
            ]
          },
          "metadata": {
            "tags": []
          },
          "execution_count": 11
        }
      ]
    },
    {
      "cell_type": "code",
      "metadata": {
        "id": "04fsC6Q8wDJU"
      },
      "source": [
        ""
      ],
      "execution_count": null,
      "outputs": []
    }
  ]
}