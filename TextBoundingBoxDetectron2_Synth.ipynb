{
  "nbformat": 4,
  "nbformat_minor": 0,
  "metadata": {
    "colab": {
      "name": "TextBoundingBoxDetectron2-Synth.ipynb",
      "provenance": [],
      "collapsed_sections": [],
      "machine_shape": "hm",
      "include_colab_link": true
    },
    "kernelspec": {
      "display_name": "Python 3",
      "name": "python3"
    },
    "language_info": {
      "name": "python"
    },
    "accelerator": "GPU"
  },
  "cells": [
    {
      "cell_type": "markdown",
      "metadata": {
        "id": "view-in-github",
        "colab_type": "text"
      },
      "source": [
        "<a href=\"https://colab.research.google.com/github/ravgupta11/Machine-Learning-Deep-Learning-Matrix/blob/main/TextBoundingBoxDetectron2_Synth.ipynb\" target=\"_parent\"><img src=\"https://colab.research.google.com/assets/colab-badge.svg\" alt=\"Open In Colab\"/></a>"
      ]
    },
    {
      "cell_type": "code",
      "metadata": {
        "id": "b5CFb2ZXMXJh",
        "colab": {
          "base_uri": "https://localhost:8080/"
        },
        "outputId": "1ab9e046-ecbe-4ea2-fca2-9f3ad4d31eab"
      },
      "source": [
        "!wget https://thor.robots.ox.ac.uk/~vgg/data/scenetext/SynthText.zip"
      ],
      "execution_count": null,
      "outputs": [
        {
          "output_type": "stream",
          "text": [
            "--2021-08-13 05:08:29--  https://thor.robots.ox.ac.uk/~vgg/data/scenetext/SynthText.zip\n",
            "Resolving thor.robots.ox.ac.uk (thor.robots.ox.ac.uk)... 129.67.95.98\n",
            "Connecting to thor.robots.ox.ac.uk (thor.robots.ox.ac.uk)|129.67.95.98|:443... connected.\n",
            "HTTP request sent, awaiting response... 200 OK\n",
            "Length: 40717671794 (38G) [application/zip]\n",
            "Saving to: ‘SynthText.zip’\n",
            "\n",
            "SynthText.zip        98%[==================> ]  37.28G  31.8MB/s    eta 21s    "
          ],
          "name": "stdout"
        }
      ]
    },
    {
      "cell_type": "code",
      "metadata": {
        "id": "q3IpMXJOMfqw"
      },
      "source": [
        "!unzip SynthText.zip; rm SynthText.zip;"
      ],
      "execution_count": null,
      "outputs": []
    },
    {
      "cell_type": "code",
      "metadata": {
        "id": "FhUB9j_fMkdt"
      },
      "source": [
        "#!pip install pyyaml==5.1\n",
        "# This is the current pytorch version on Colab. Uncomment this if Colab changes its pytorch version\n",
        "# !pip install torch==1.9.0+cu102 torchvision==0.10.0+cu102 -f https://download.pytorch.org/whl/torch_stable.html\n",
        "\n",
        "# Install detectron2 that matches the above pytorch version\n",
        "# See https://detectron2.readthedocs.io/tutorials/install.html for instructions\n",
        "!pip install detectron2 -f https://dl.fbaipublicfiles.com/detectron2/wheels/cu102/torch1.9/index.html\n",
        "# exit(0)  # After installation, you need to \"restart runtime\" in Colab. This line can also restart runtime"
      ],
      "execution_count": null,
      "outputs": []
    },
    {
      "cell_type": "code",
      "metadata": {
        "id": "jby-fyEiUWfo"
      },
      "source": [
        ""
      ],
      "execution_count": null,
      "outputs": []
    },
    {
      "cell_type": "code",
      "metadata": {
        "id": "UJDdFd9vVhEN"
      },
      "source": [
        ""
      ],
      "execution_count": null,
      "outputs": []
    },
    {
      "cell_type": "code",
      "metadata": {
        "id": "vXGcKu6EN0FE",
        "colab": {
          "base_uri": "https://localhost:8080/"
        },
        "outputId": "636bf163-52d4-4bc8-b4a3-2893f28c3dbd"
      },
      "source": [
        "# check pytorch installation: \n",
        "import torch, torchvision\n",
        "print(torch.__version__, torch.cuda.is_available())\n",
        "assert torch.__version__.startswith(\"1.9\")   # please manually install torch 1.9 if Colab changes its default version"
      ],
      "execution_count": null,
      "outputs": [
        {
          "output_type": "stream",
          "text": [
            "1.9.0+cu102 True\n"
          ],
          "name": "stdout"
        }
      ]
    },
    {
      "cell_type": "code",
      "metadata": {
        "id": "eSjKfuEHN05I"
      },
      "source": [
        "#importing detectron2 libraries\n",
        "from detectron2 import model_zoo\n",
        "from detectron2.engine import DefaultPredictor\n",
        "from detectron2.engine import DefaultTrainer\n",
        "from detectron2.config import get_cfg\n",
        "from detectron2.utils.visualizer import Visualizer\n",
        "from detectron2.structures import BoxMode\n",
        "from detectron2.data import MetadataCatalog, DatasetCatalog\n",
        "from detectron2.utils.visualizer import ColorMode\n"
      ],
      "execution_count": null,
      "outputs": []
    },
    {
      "cell_type": "code",
      "metadata": {
        "id": "d6cVSSD9N5NB",
        "colab": {
          "base_uri": "https://localhost:8080/"
        },
        "outputId": "2f4c57e5-0a87-4416-a7d8-996efcbce7a4"
      },
      "source": [
        "import numpy as np\n",
        "import pandas as pd\n",
        "import itertools\n",
        "import os, json, cv2, random\n",
        "from google.colab.patches import cv2_imshow #for colab only\n",
        "from google.colab import drive\n",
        "drive.mount('/content/drive')"
      ],
      "execution_count": null,
      "outputs": [
        {
          "output_type": "stream",
          "text": [
            "Mounted at /content/drive\n"
          ],
          "name": "stdout"
        }
      ]
    },
    {
      "cell_type": "code",
      "metadata": {
        "id": "q5qdSwmfOEkS"
      },
      "source": [
        "import detectron2\n",
        "from detectron2.utils.logger import setup_logger\n",
        "setup_logger()\n",
        "torch.cuda.empty_cache()"
      ],
      "execution_count": null,
      "outputs": []
    },
    {
      "cell_type": "code",
      "metadata": {
        "id": "wfubwoCLUk84"
      },
      "source": [
        "#TO CREATE COCO ANNOTATIONS\n",
        "#import numpy as np\n",
        "#import os\n",
        "#import cv2\n",
        "#import random\n",
        "#import scipy.io\n",
        "#from detectron2.data.datasets.coco import convert_to_coco_json\n",
        "\n",
        "#mat = scipy.io.loadmat('/content/SynthText/gt.mat')\n",
        "\n",
        "#dataset = []\n",
        "#for image_id in range(len(mat['imnames'][0])):\n",
        "  #record = {}\n",
        "  #record['image_id'] = image_id\n",
        "  #record['file_name'] = os.path.join(os.getcwd(),'SynthText', mat['imnames'][0][image_id][0])\n",
        "  #record['width'], record['height'] = cv2.imread(record['file_name']).shape[:2]\n",
        "  #record['annotations'] = []\n",
        "  #objs = mat['wordBB'][0][image_id]\n",
        "  #if len(objs.shape) < 3:\n",
        "  #  continue\n",
        "  #for object_id in range(objs.shape[-1]):\n",
        "  #  xmax, ymax = np.max(objs[:,:,object_id], axis = 1)\n",
        "  #  xmin, ymin = np.min(objs[:,:, object_id], axis = 1)\n",
        "  #  obj = { 'bbox': [xmin, ymin, xmax, ymax],\n",
        "  #         \"bbox_mode\": BoxMode.XYXY_ABS,\n",
        "  #         'category_id' : 0\n",
        "  #         }\n",
        "\n",
        "  #  record['annotations'].append(obj)\n",
        "  #dataset.append(record)\n",
        "\n",
        "#random.shuffle(dataset)\n",
        "\n",
        "#def get_dataset(dataset, _set='train'):\n",
        "#    if _set == 'train' :\n",
        "#      return dataset[:int(0.8 * len(dataset))]\n",
        "#    return dataset[int(0.8 * len(dataset)): ]\n",
        "\n",
        "#for d in [\"train\", \"val\"]:\n",
        "#    DatasetCatalog.register(\"my_dataset_\" + d, lambda d=d: get_dataset(dataset, d))\n",
        "#   MetadataCatalog.get(\"my_dataset_\" + d).set(thing_classes=['text'])\n",
        "\n",
        "#convert_to_coco_json('my_dataset_train', output_file = '/content/train.json', allow_cached=False)\n",
        "#convert_to_coco_json('my_dataset_val', output_file = '/content/val.json', allow_cached = False)\n",
        "#!cp '/content/train.json' '/content/drive/MyDrive/SynthTextTrain.json';cp '/content/val.json' '/content/drive/MyDrive/SynthTextVal.json'"
      ],
      "execution_count": null,
      "outputs": []
    },
    {
      "cell_type": "code",
      "metadata": {
        "id": "V-ANAPeGLx12"
      },
      "source": [
        "!cp '/content/drive/MyDrive/SynthTextTrain.json' '/content/train.json';cp '/content/drive/MyDrive/SynthTextVal.json' '/content/val.json'\n",
        "!cp '/content/drive/MyDrive/detectron2_textdetection_synthtext_50k.pth' '/content/pretrained_weights.pth'"
      ],
      "execution_count": null,
      "outputs": []
    },
    {
      "cell_type": "code",
      "metadata": {
        "id": "Zjb8MfpYLcgC"
      },
      "source": [
        "from detectron2.data.datasets import register_coco_instances\n",
        "register_coco_instances(\"train_dataset\", {},\"/content/train.json\", \"\")\n",
        "register_coco_instances(\"val_dataset\", {}, \"/content/val.json\", \"\")"
      ],
      "execution_count": null,
      "outputs": []
    },
    {
      "cell_type": "code",
      "metadata": {
        "id": "sVVgQy0iOnRZ",
        "colab": {
          "base_uri": "https://localhost:8080/"
        },
        "outputId": "2465998a-b72d-4105-d7a7-649aa392c51b"
      },
      "source": [
        "logo_metadata = MetadataCatalog.get('train_dataset')\n",
        "dataset_dicts = DatasetCatalog.get('train_dataset')\n",
        "print(len(dataset_dicts))\n",
        "for d in random.sample(dataset_dicts, 1):\n",
        "    img = cv2.imread(d[\"file_name\"])\n",
        "    visualizer = Visualizer(img[:, :, ::-1], metadata=logo_metadata, scale=0.5)\n",
        "    out = visualizer.draw_dataset_dict(d)\n",
        "    #cv2.imshow('frame', out.get_image()[:, :, ::-1])\n",
        "    #cv2.waitKey(3000)\n",
        "    #cv2.destroyAllWindows()\n",
        "    cv2_imshow(out.get_image()[:, :, ::-1])"
      ],
      "execution_count": null,
      "outputs": [
        {
          "output_type": "stream",
          "text": [
            "\u001b[32m[08/11 08:35:41 d2.data.datasets.coco]: \u001b[0mLoading /content/train.json takes 36.06 seconds.\n",
            "\u001b[5m\u001b[31mWARNING\u001b[0m \u001b[32m[08/11 08:35:41 d2.data.datasets.coco]: \u001b[0m\n",
            "Category ids in annotations are not in [1, #categories]! We'll apply a mapping for you.\n",
            "\n",
            "\u001b[32m[08/11 08:35:46 d2.data.datasets.coco]: \u001b[0mLoaded 667473 images in COCO format from /content/train.json\n"
          ],
          "name": "stdout"
        }
      ]
    },
    {
      "cell_type": "code",
      "metadata": {
        "id": "qx6slbVHOnK8"
      },
      "source": [
        "from detectron2.engine import DefaultTrainer\n",
        "from detectron2.evaluation import COCOEvaluator\n",
        "\n",
        "\n",
        "class CocoTrainer(DefaultTrainer):\n",
        "\n",
        "  @classmethod\n",
        "  def build_evaluator(cls, cfg, dataset_name, output_folder=None):\n",
        "\n",
        "    if output_folder is None:\n",
        "        os.makedirs(\"logo_val\", exist_ok=True)\n",
        "        output_folder = \"logo_val\"\n",
        "\n",
        "    return COCOEvaluator(dataset_name, ('bbox',), True, output_folder)"
      ],
      "execution_count": null,
      "outputs": []
    },
    {
      "cell_type": "code",
      "metadata": {
        "id": "swBrw4jIeD7p"
      },
      "source": [
        "cfg = get_cfg()\n",
        "cfg.merge_from_file(model_zoo.get_config_file(\"COCO-Detection/faster_rcnn_X_101_32x8d_FPN_3x.yaml\"))\n",
        "cfg.MODEL.WEIGHTS = '/content/pretrained_weights.pth'\n",
        "\n",
        "cfg.DATASETS.TRAIN = (\"my_dataset_train\",)\n",
        "cfg.DATASETS.TEST = (\"my_dataset_val\",)\n",
        "cfg.DATALOADER.NUM_WORKERS = 4\n",
        "\n",
        "\n",
        "\n",
        "cfg.MODEL.ROI_HEADS.NMS_THRESH_TEST = 0.50 #original 0.5\n",
        "cfg.MODEL.RPN.POSITIVE_FRACTION = 0.50 #original 0.5\n",
        "cfg.MODEL.RPN.NMS_THRESH = 0.7 #original 0.7\n",
        "cfg.MODEL.ROI_HEADS.SCORE_THRESH_TEST = 0.5\n",
        "\n",
        "#cfg.MODEL.RPN.PRE_NMS_TOPK_TRAIN = 150000 #original 12000\n",
        "#cfg.MODEL.RPN.PRE_NMS_TOPK_TEST = 150000 #original 6000\n",
        "cfg.MODEL.RPN.POST_NMS_TOPK_TRAIN = 10000 #original 2000\n",
        "cfg.MODEL.RPN.POST_NMS_TOPK_TEST = 10000 #original 1000\n",
        "cfg.MODEL.ANCHOR_GENERATOR.SIZES = [[16, 32, 64, 128, 256, 512]] # added 16 here \n",
        "cfg.MODEL.ANCHOR_GENERATOR.ASPECT_RATIOS = [[0.5, 1.0, 2.0, 7.0]] #added 7 here \n",
        "\n",
        "\n",
        "cfg.MODEL.ROI_HEADS.BATCH_SIZE_PER_IMAGE = 512\n",
        "cfg.MODEL.ROI_HEADS.NUM_CLASSES = 1\n",
        "\n",
        "\n",
        "cfg.SOLVER.WARMUP_ITERS = 40\n",
        "cfg.SOLVER.MAX_ITER = 100000 \n",
        "cfg.SOLVER.GAMMA = 0.05\n",
        "cfg.SOLVER.IMS_PER_BATCH = 3\n",
        "cfg.SOLVER.BASE_LR = 1e-3\n",
        "\n",
        "cfg.TEST.DETECTIONS_PER_IMAGE = 99000 #original 100 \n",
        "cfg.TEST.EVAL_PERIOD = 50000\n",
        "\n",
        "os.makedirs(cfg.OUTPUT_DIR, exist_ok=True)\n",
        "trainer = CocoTrainer(cfg) \n",
        "trainer.resume_or_load(resume=False)\n",
        "trainer.train()\n",
        "!cp '/content/output/model_final.pth' '/content/drive/MyDrive/detectron_text_detection_synthtext_150k.pth'"
      ],
      "execution_count": null,
      "outputs": []
    },
    {
      "cell_type": "code",
      "metadata": {
        "id": "8xDuwRqreYn3"
      },
      "source": [
        ""
      ],
      "execution_count": null,
      "outputs": []
    }
  ]
}