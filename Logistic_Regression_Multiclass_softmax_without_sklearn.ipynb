{
  "nbformat": 4,
  "nbformat_minor": 0,
  "metadata": {
    "colab": {
      "name": "Logistic_Regression_Multiclass_softmax_without_sklearn.ipynb",
      "provenance": [],
      "collapsed_sections": [],
      "authorship_tag": "ABX9TyN91s7RBNtIvNLHvI7NabTk",
      "include_colab_link": true
    },
    "kernelspec": {
      "name": "python3",
      "display_name": "Python 3"
    }
  },
  "cells": [
    {
      "cell_type": "markdown",
      "metadata": {
        "id": "view-in-github",
        "colab_type": "text"
      },
      "source": [
        "<a href=\"https://colab.research.google.com/github/ravgupta11/Machine-Learning-Deep-Learning-Matrix/blob/main/Logistic_Regression_Multiclass_softmax_without_sklearn.ipynb\" target=\"_parent\"><img src=\"https://colab.research.google.com/assets/colab-badge.svg\" alt=\"Open In Colab\"/></a>"
      ]
    },
    {
      "cell_type": "code",
      "metadata": {
        "id": "azGfxTyh_uic",
        "colab": {
          "base_uri": "https://localhost:8080/",
          "height": 195
        },
        "outputId": "49e06e04-dd9e-4030-f232-839c6447c55b"
      },
      "source": [
        "import numpy as np\n",
        "import pandas as pd\n",
        "classes_num = 3\n",
        "\n",
        "\n",
        "df = pd.DataFrame({ \"Color\" : [\"Green\", \"Yellow\", \"Red\", \"Red\", \"Yellow\"],\n",
        "                   \"Diameter\": [3, 3, 1, 1, 3],\n",
        "                   \"label\" : [\"Apple\", \"Apple\", \"Grape\", \"Grape\", \"Orange\"]})\n",
        "label = pd.DataFrame(df['label'])\n",
        "df.drop([\"label\"], axis = 1, inplace = True)\n",
        "df"
      ],
      "execution_count": null,
      "outputs": [
        {
          "output_type": "execute_result",
          "data": {
            "text/html": [
              "<div>\n",
              "<style scoped>\n",
              "    .dataframe tbody tr th:only-of-type {\n",
              "        vertical-align: middle;\n",
              "    }\n",
              "\n",
              "    .dataframe tbody tr th {\n",
              "        vertical-align: top;\n",
              "    }\n",
              "\n",
              "    .dataframe thead th {\n",
              "        text-align: right;\n",
              "    }\n",
              "</style>\n",
              "<table border=\"1\" class=\"dataframe\">\n",
              "  <thead>\n",
              "    <tr style=\"text-align: right;\">\n",
              "      <th></th>\n",
              "      <th>Color</th>\n",
              "      <th>Diameter</th>\n",
              "    </tr>\n",
              "  </thead>\n",
              "  <tbody>\n",
              "    <tr>\n",
              "      <th>0</th>\n",
              "      <td>Green</td>\n",
              "      <td>3</td>\n",
              "    </tr>\n",
              "    <tr>\n",
              "      <th>1</th>\n",
              "      <td>Yellow</td>\n",
              "      <td>3</td>\n",
              "    </tr>\n",
              "    <tr>\n",
              "      <th>2</th>\n",
              "      <td>Red</td>\n",
              "      <td>1</td>\n",
              "    </tr>\n",
              "    <tr>\n",
              "      <th>3</th>\n",
              "      <td>Red</td>\n",
              "      <td>1</td>\n",
              "    </tr>\n",
              "    <tr>\n",
              "      <th>4</th>\n",
              "      <td>Yellow</td>\n",
              "      <td>3</td>\n",
              "    </tr>\n",
              "  </tbody>\n",
              "</table>\n",
              "</div>"
            ],
            "text/plain": [
              "    Color  Diameter\n",
              "0   Green         3\n",
              "1  Yellow         3\n",
              "2     Red         1\n",
              "3     Red         1\n",
              "4  Yellow         3"
            ]
          },
          "metadata": {
            "tags": []
          },
          "execution_count": 99
        }
      ]
    },
    {
      "cell_type": "code",
      "metadata": {
        "id": "SgJb0Ij9_8A5"
      },
      "source": [
        "# [1, 2, 3, 4] sum = 10, [1/10, 2/10, 3/10,4/10] = [0.1, 0.2, 0.3, 0.4] <-values are too close\n",
        "# [e^1, e^2, e^3, e^4] sum= e^1 + e^2 +e^3+ e^4, [e^1/sum, e^2/sum, e^3/sum, e^4/sum] "
      ],
      "execution_count": null,
      "outputs": []
    },
    {
      "cell_type": "code",
      "metadata": {
        "id": "-BS77IG2iF1F"
      },
      "source": [
        "def softmax(row_a): # further numerical stability is needed\n",
        "  mx = np.max(row_a)\n",
        "  sm =  np.sum(np.exp(row_a - mx))\n",
        "  return np.exp(row_a - mx) / sm\n",
        "\n",
        "def normalize(df, columns, label):\n",
        "    for col in columns:\n",
        "        if(col  == label):\n",
        "            continue\n",
        "        mx = df[col].max()\n",
        "        mn = df[col].min()\n",
        "        df[col] = (df[col] - mn) / (mx - mn)  ## 1 2 3 4 5 6 7 8 9 9 10 (subtract minimum) -> 0 1 2 3 4 5 6 7 8 8 9 > (divide by max size = mx - mn) 0 1/9 2/9 ... 9/9 = 0 1/9 2/9 3/9 ... 1\n",
        "\n",
        "def categorical(df):\n",
        "    columns = []\n",
        "    for col in df.columns:\n",
        "        if isinstance(df[col][0], str):\n",
        "            columns.append(col)\n",
        "    return columns\n",
        "\n",
        "def numerical(df):\n",
        "    columns = []\n",
        "    for col in df.columns:\n",
        "        if isinstance(df[col][0], str) == False:\n",
        "            columns.append(col)\n",
        "    return columns\n",
        "\n",
        "def encode(df1, features):\n",
        "    for col in features:\n",
        "        values = set(df1[col])\n",
        "        print(values)\n",
        "        for val in values:\n",
        "            df1[val] = (df1[col] == val).apply(lambda x: 1 if(x == True) else 0)\n",
        "    df1.drop(columns = features, inplace = True)\n",
        "    print(df1)\n",
        "\n",
        "def augment(df):\n",
        "    my_data = df.to_numpy()\n",
        "    ones = np.ones([my_data.shape[0], 1])\n",
        "    X = np.concatenate([ones, my_data], 1)\n",
        "    return X\n",
        "\n",
        "def randomize(features, labels, batch, label_matrix):\n",
        "    c = np.concatenate([features, labels, label_matrix], axis = 1)\n",
        "    np.random.shuffle(c)\n",
        "    X = c[:batch, 0: features_num]\n",
        "    y = c[:batch, features_num].reshape(-1, 1)\n",
        "    Y = c[:batch, features_num+1:]\n",
        "    y = y.astype(np.int64)\n",
        "    Y = Y.astype(np.int64)\n",
        "    return X, Y, y\n",
        "\n",
        "def computeCost(X, y, theta):  \n",
        "    inner = np.power(((X @ theta.T) - y), 2) \n",
        "    S = np.sum(inner)\n",
        "    MSE = S / float(len(X));\n",
        "    return np.power(MSE, 0.5)\n",
        "\n",
        "def label_encoder(label1):\n",
        "  values = {}\n",
        "  column = label1.columns[0]\n",
        "  cnt = 0\n",
        "  for i in label1[column]:\n",
        "    if i not in values:\n",
        "      values[i] = cnt\n",
        "      cnt += 1\n",
        "  label1[column] = label1[column].apply(lambda x : values[x])\n"
      ],
      "execution_count": null,
      "outputs": []
    },
    {
      "cell_type": "code",
      "metadata": {
        "colab": {
          "base_uri": "https://localhost:8080/"
        },
        "id": "70XfRzX_ZaZC",
        "outputId": "080c16e6-942c-426f-e5ec-07105e97524b"
      },
      "source": [
        "\n",
        "encode(df, categorical(df))\n",
        "print(categorical(df))\n",
        "\n",
        "label_matrix = label.copy()\n",
        "encode(label_matrix, categorical(label_matrix))\n",
        "classes_num = len(label_matrix.columns)\n",
        "label_encoder(label)\n",
        "features = augment(df)\n",
        "features_num = len(features)\n",
        "label = label.to_numpy()\n",
        "label_matrix = label_matrix.to_numpy()"
      ],
      "execution_count": null,
      "outputs": [
        {
          "output_type": "stream",
          "text": [
            "{'Red', 'Yellow', 'Green'}\n",
            "   Diameter  Red  Yellow  Green\n",
            "0         3    0       0      1\n",
            "1         3    0       1      0\n",
            "2         1    1       0      0\n",
            "3         1    1       0      0\n",
            "4         3    0       1      0\n",
            "[]\n",
            "{'Apple', 'Grape', 'Orange'}\n",
            "   Apple  Grape  Orange\n",
            "0      1      0       0\n",
            "1      1      0       0\n",
            "2      0      1       0\n",
            "3      0      1       0\n",
            "4      0      0       1\n"
          ],
          "name": "stdout"
        }
      ]
    },
    {
      "cell_type": "code",
      "metadata": {
        "colab": {
          "base_uri": "https://localhost:8080/"
        },
        "id": "RAYqYoj3gTQ3",
        "outputId": "19407f2c-a25b-4512-e729-11a76a8f7def"
      },
      "source": [
        "label"
      ],
      "execution_count": null,
      "outputs": [
        {
          "output_type": "execute_result",
          "data": {
            "text/plain": [
              "array([[0],\n",
              "       [0],\n",
              "       [1],\n",
              "       [1],\n",
              "       [2]])"
            ]
          },
          "metadata": {
            "tags": []
          },
          "execution_count": 81
        }
      ]
    },
    {
      "cell_type": "code",
      "metadata": {
        "id": "tGElZLHKiPNH"
      },
      "source": [
        "\n",
        "\n",
        "def compute_gradient(labels, Y, theta, features):\n",
        "  n = len(features)\n",
        "  R = features @ theta\n",
        "  F = np.empty([1, n])\n",
        "  labels = labels.reshape(1, -1)\n",
        "  for i in range(n):\n",
        "    F[0][i] = softmax(R[i])[labels[0][i]]\n",
        "  F = np.tile(F, (classes_num, 1))\n",
        "  F = F.T - Y\n",
        "  res = np.zeros([features_num, classes_num])\n",
        "  for i in range(n):\n",
        "    res += np.outer(features[i], F[i])\n",
        "  res /= n\n",
        "  return res\n",
        "\n",
        "def logloss(y, r): #numerical stable cross entropy\n",
        "  mx = np.max(r)\n",
        "  return -1 * y * ((r - mx) - np.log(np.sum(np.exp(r - mx))))\n",
        "\n",
        "def compute_likelihood(Y, theta, features):\n",
        "  n = len(features)\n",
        "  R = features @ theta\n",
        "  sm = 0.0\n",
        "  for i in range(n):\n",
        "    sm += np.sum(logloss(Y[i], R[i]))\n",
        "  return sm / n"
      ],
      "execution_count": null,
      "outputs": []
    },
    {
      "cell_type": "code",
      "metadata": {
        "colab": {
          "base_uri": "https://localhost:8080/"
        },
        "id": "OBIcKY55sNko",
        "outputId": "02787017-73d9-49c9-a8ac-eccbf0721c6c"
      },
      "source": [
        "\n",
        "theta = np.random.randn(features_num, classes_num)\n",
        "\n",
        "def gradient_descent(features, theta, label, batch, label_matrix):\n",
        "    for i in range(epochs):\n",
        "        X, Y, y = randomize(features, label, batch, label_matrix)\n",
        "        gradient = compute_gradient(y, Y, theta, X)\n",
        "        theta = theta - alpha * gradient;\n",
        "        cost = compute_likelihood(Y, theta, X)\n",
        "        if(i % 10000 == 0):\n",
        "            print(cost, theta)\n",
        "    return (theta, cost)\n",
        "\n",
        "alpha = 1\n",
        "epochs = 1000\n",
        "batch = 3\n",
        "theta, cost = gradient_descent(features, theta, label, batch, label_matrix)\n",
        "print(features, label_matrix)\n",
        "prediction = np.apply_along_axis(softmax, 0, (features @ theta))\n",
        "np.argmax(prediction, axis = 1)"
      ],
      "execution_count": null,
      "outputs": [
        {
          "output_type": "stream",
          "text": [
            "0.4929647046905899 [[-0.14614602  1.21509281 -1.67610877]\n",
            " [ 0.72293867  0.26735644  0.52208343]\n",
            " [-0.90101541 -0.79872911 -1.45631056]\n",
            " [-1.28497646  0.14264379 -0.32064499]\n",
            " [ 0.98335615  1.11734661  0.7631377 ]]\n",
            "[[1. 3. 0. 0. 1.]\n",
            " [1. 3. 0. 1. 0.]\n",
            " [1. 1. 1. 0. 0.]\n",
            " [1. 1. 1. 0. 0.]\n",
            " [1. 3. 0. 1. 0.]] [[1 0 0]\n",
            " [1 0 0]\n",
            " [0 1 0]\n",
            " [0 1 0]\n",
            " [0 0 1]]\n"
          ],
          "name": "stdout"
        },
        {
          "output_type": "execute_result",
          "data": {
            "text/plain": [
              "array([0, 0, 1, 1, 0])"
            ]
          },
          "metadata": {
            "tags": []
          },
          "execution_count": 105
        }
      ]
    },
    {
      "cell_type": "code",
      "metadata": {
        "id": "AR5Twttrsg_i"
      },
      "source": [
        ""
      ],
      "execution_count": null,
      "outputs": []
    }
  ]
}